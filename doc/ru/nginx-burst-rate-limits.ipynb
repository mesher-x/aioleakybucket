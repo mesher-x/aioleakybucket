{
 "cells": [
  {
   "cell_type": "markdown",
   "metadata": {
    "slideshow": {
     "slide_type": "slide"
    }
   },
   "source": [
    "# Leaky bucket algorithm"
   ]
  },
  {
   "cell_type": "markdown",
   "metadata": {
    "slideshow": {
     "slide_type": "fragment"
    }
   },
   "source": [
    "В ведро фиксированного размера поступают запросы клиентов. Запрос отклоняется, если не помещается в ведро. Принятый запрос кладётся в ведро и передается на обработку в порядке очереди (FIFO). Ведро наполняется запросами, приходящими, вообще говоря, неравномерно по времени. Запросы достаются из ведра с фиксированной частотой."
   ]
  },
  {
   "cell_type": "markdown",
   "metadata": {
    "slideshow": {
     "slide_type": "slide"
    }
   },
   "source": [
    "# Nginx burst rate limitting"
   ]
  },
  {
   "cell_type": "markdown",
   "metadata": {
    "slideshow": {
     "slide_type": "fragment"
    }
   },
   "source": [
    "```\n",
    "limit_req_zone key zone=name:size rate=rate [sync];\n",
    "\n",
    "limit_req zone=name [burst=number] [nodelay | delay=number];\n",
    "```"
   ]
  },
  {
   "cell_type": "markdown",
   "metadata": {
    "slideshow": {
     "slide_type": "fragment"
    }
   },
   "source": [
    "**limit_req_zone** задаёт имя, размер, и частоту общей для worker процессов зоны, которая хранит состояния различных ключей.\n",
    "\n",
    "Чтобы применить определённые ограничения в блоке server или location используется директива **limit_req**."
   ]
  },
  {
   "cell_type": "code",
   "execution_count": 8,
   "metadata": {
    "slideshow": {
     "slide_type": "skip"
    }
   },
   "outputs": [],
   "source": [
    "class RequestLimiter:\n",
    "    def __init__(self, rate, burst=0, delay=float('inf')):\n",
    "        \"rate измеряется в r/s, nodelay по умолчанию (в nginx delay=0)\"\n",
    "        \n",
    "        self.rate = rate\n",
    "        self.burst = burst\n",
    "        self.delay = delay\n",
    "\n",
    "        self.excess = 0\n",
    "        self.last_request_time = -1\n",
    "\n",
    "    def get_request_delay(self, request_time):\n",
    "        time_delta = request_time - self.last_request_time\n",
    "        assert time_delta >= 0\n",
    "\n",
    "        excess = max(0, round(self.excess - time_delta * self.rate + 1, 4))\n",
    "        if excess > self.burst:\n",
    "            raise RuntimeError(\"Слишком много запросов\")\n",
    "\n",
    "        self.excess = excess\n",
    "        self.last_request_time = request_time\n",
    "\n",
    "        if excess <= self.delay:\n",
    "            return 0\n",
    "        else:\n",
    "            return round((excess - self.delay) / self.rate, 4)\n",
    "        \n",
    "def try_requests(limiter, request_times):\n",
    "    for i, request_time in enumerate(request_times, 1):\n",
    "        print(f\"Запрос {i} пришёл в {request_time}с\"б)\n",
    "        try:\n",
    "            delay = limiter.get_request_delay(request_time)\n",
    "            print(f\"Запрос {i} обработан в {request_time + delay}с\" \\\n",
    "                  f\" (задержка {delay}с)\")\n",
    "        except RuntimeError:\n",
    "            print(f\"Запрос {i} отклонён.\")\n",
    "        print()"
   ]
  },
  {
   "cell_type": "markdown",
   "metadata": {
    "slideshow": {
     "slide_type": "slide"
    }
   },
   "source": [
    "### Basic Rate Limiting"
   ]
  },
  {
   "cell_type": "markdown",
   "metadata": {
    "slideshow": {
     "slide_type": "fragment"
    }
   },
   "source": [
    "Пример конфигурации"
   ]
  },
  {
   "cell_type": "markdown",
   "metadata": {
    "slideshow": {
     "slide_type": "fragment"
    }
   },
   "source": [
    "```\n",
    "limit_req_zone $binary_remote_addr zone=mylimit:10m rate=10r/s;\n",
    " \n",
    "server {\n",
    "    location /login/ {\n",
    "        limit_req zone=mylimit;\n",
    "        \n",
    "        proxy_pass http://my_upstream;\n",
    "    }\n",
    "}\n",
    "```"
   ]
  },
  {
   "cell_type": "markdown",
   "metadata": {
    "slideshow": {
     "slide_type": "fragment"
    }
   },
   "source": [
    "Здесь ключ это ip адрес клиента. Частота равна 1 запрос в 100 миллисекунд."
   ]
  },
  {
   "cell_type": "markdown",
   "metadata": {
    "slideshow": {
     "slide_type": "fragment"
    }
   },
   "source": [
    "В данном случае если с одного ip адреса посылаются два запроса к /login/, время прихода которых отличается менее чем на 100 миллисекунд, то второй запрос будет отклонён."
   ]
  },
  {
   "cell_type": "markdown",
   "metadata": {
    "slideshow": {
     "slide_type": "subslide"
    }
   },
   "source": [
    "Зона mylimit хранит состояния для всех различных ip адресов, обращающихся к /login/. Если при попытке добавить новое состояние памяти не хватает, удаляется самое старое состояние. Если после удаления памяти всё равно не хватает запрос отклоняется. Для предотвращения заполнения памяти, при добавлении нового состояния, удаляются не более 2ух состояний, которые не использовались минуту."
   ]
  },
  {
   "cell_type": "markdown",
   "metadata": {
    "slideshow": {
     "slide_type": "subslide"
    }
   },
   "source": [
    "При такой конфигурации очень много запросов будут отклонятся."
   ]
  },
  {
   "cell_type": "code",
   "execution_count": 9,
   "metadata": {
    "slideshow": {
     "slide_type": "subslide"
    }
   },
   "outputs": [
    {
     "name": "stdout",
     "output_type": "stream",
     "text": [
      "Запрос 1 пришёл в 0с\n",
      "Запрос 1 обработан в 0с (задержка 0с)\n",
      "\n",
      "Запрос 2 пришёл в 0.1с\n",
      "Запрос 2 обработан в 0.1с (задержка 0с)\n",
      "\n",
      "Запрос 3 пришёл в 0.19с\n",
      "Запрос 3 отклонён.\n",
      "\n",
      "Запрос 4 пришёл в 0.2с\n",
      "Запрос 4 обработан в 0.2с (задержка 0с)\n",
      "\n",
      "Запрос 5 пришёл в 0.2с\n",
      "Запрос 5 отклонён.\n",
      "\n",
      "Запрос 6 пришёл в 0.25с\n",
      "Запрос 6 отклонён.\n",
      "\n",
      "Запрос 7 пришёл в 0.3с\n",
      "Запрос 7 обработан в 0.3с (задержка 0с)\n",
      "\n"
     ]
    }
   ],
   "source": [
    "try_requests(\n",
    "    RequestLimiter(10),\n",
    "    [0, 0.1, 0.19, 0.2, 0.2, 0.25, 0.3]\n",
    ")"
   ]
  },
  {
   "cell_type": "markdown",
   "metadata": {
    "slideshow": {
     "slide_type": "slide"
    }
   },
   "source": [
    "### Bursts Rate Limiting"
   ]
  },
  {
   "cell_type": "markdown",
   "metadata": {
    "slideshow": {
     "slide_type": "fragment"
    }
   },
   "source": [
    "Пример конфигурации"
   ]
  },
  {
   "cell_type": "markdown",
   "metadata": {
    "slideshow": {
     "slide_type": "fragment"
    }
   },
   "source": [
    "```\n",
    "location /login/ {\n",
    "    limit_req zone=mylimit burst=20;\n",
    " \n",
    "    proxy_pass http://my_upstream;\n",
    "}\n",
    "```"
   ]
  },
  {
   "cell_type": "markdown",
   "metadata": {
    "slideshow": {
     "slide_type": "fragment"
    }
   },
   "source": [
    "Параметр **burst** задаёт размер очереди, куда будут помещаться некоторые из отклоняемых в предыдущей модели запросы (по умолчанию 0)."
   ]
  },
  {
   "cell_type": "markdown",
   "metadata": {
    "slideshow": {
     "slide_type": "fragment"
    }
   },
   "source": [
    "Будем называть запрос excessive, если на момент его прихода очередь не пуста или он пришёл слишком рано."
   ]
  },
  {
   "cell_type": "markdown",
   "metadata": {
    "slideshow": {
     "slide_type": "fragment"
    }
   },
   "source": [
    "Теперь excessive запросы отклоняются, только если очередь уже заполнена. NGINX освобождает один слот очереди и отправляет на обработку соответствующий запрос с заданной частотой."
   ]
  },
  {
   "cell_type": "markdown",
   "metadata": {
    "slideshow": {
     "slide_type": "subslide"
    }
   },
   "source": [
    "Используя очередь запросов, мы позволяем клиентам посылать много запросов сразу. Проблемой является высокая задержка, которая может достигать $\\frac{burst}{rate}$ (2 секунды в нашем примере)."
   ]
  },
  {
   "cell_type": "code",
   "execution_count": 10,
   "metadata": {
    "slideshow": {
     "slide_type": "subslide"
    }
   },
   "outputs": [
    {
     "name": "stdout",
     "output_type": "stream",
     "text": [
      "Запрос 1 пришёл в 1с\n",
      "Запрос 1 обработан в 1с (задержка 0с)\n",
      "\n",
      "Запрос 2 пришёл в 1с\n",
      "Запрос 2 обработан в 2.0с (задержка 1.0с)\n",
      "\n",
      "Запрос 3 пришёл в 1с\n",
      "Запрос 3 обработан в 3.0с (задержка 2.0с)\n",
      "\n",
      "Запрос 4 пришёл в 1с\n",
      "Запрос 4 отклонён.\n",
      "\n",
      "Запрос 5 пришёл в 2с\n",
      "Запрос 5 обработан в 4.0с (задержка 2.0с)\n",
      "\n",
      "Запрос 6 пришёл в 2с\n",
      "Запрос 6 отклонён.\n",
      "\n",
      "Запрос 7 пришёл в 2с\n",
      "Запрос 7 отклонён.\n",
      "\n",
      "Запрос 8 пришёл в 2с\n",
      "Запрос 8 отклонён.\n",
      "\n",
      "Запрос 9 пришёл в 3с\n",
      "Запрос 9 обработан в 5.0с (задержка 2.0с)\n",
      "\n",
      "Запрос 10 пришёл в 3с\n",
      "Запрос 10 отклонён.\n",
      "\n",
      "Запрос 11 пришёл в 3с\n",
      "Запрос 11 отклонён.\n",
      "\n",
      "Запрос 12 пришёл в 3с\n",
      "Запрос 12 отклонён.\n",
      "\n"
     ]
    }
   ],
   "source": [
    "try_requests(\n",
    "    RequestLimiter(1, 2, 0),\n",
    "    [1, 1, 1, 1, 2, 2, 2, 2, 3, 3, 3, 3]\n",
    ")"
   ]
  },
  {
   "cell_type": "markdown",
   "metadata": {
    "slideshow": {
     "slide_type": "slide"
    }
   },
   "source": [
    "### Queueing with No Delay"
   ]
  },
  {
   "cell_type": "markdown",
   "metadata": {
    "slideshow": {
     "slide_type": "fragment"
    }
   },
   "source": [
    "Пример конфигурации"
   ]
  },
  {
   "cell_type": "markdown",
   "metadata": {
    "slideshow": {
     "slide_type": "fragment"
    }
   },
   "source": [
    "```\n",
    "location /login/ {\n",
    "    limit_req zone=mylimit burst=20 nodelay;\n",
    " \n",
    "    proxy_pass http://my_upstream;\n",
    "}\n",
    "```"
   ]
  },
  {
   "cell_type": "markdown",
   "metadata": {
    "slideshow": {
     "slide_type": "fragment"
    }
   },
   "source": [
    "Параметр **nodelay** убирает задержку, связанную с ожиданием в очереди. Теперь, если запрос принят, то он будет отправлен на обработку сразу же. Освобождение слотов очереди происходит как и ранее с заданной частотой."
   ]
  },
  {
   "cell_type": "markdown",
   "metadata": {
    "slideshow": {
     "slide_type": "fragment"
    }
   },
   "source": [
    "Таким образом мы убрали задержку, но сохранили ограничение на число обрабатываемых запросов за относительно большой промежуток времени. Однако, возможна перегрузка серверов, к которым одновременно может прийти на обработку **burst + 1** запросов с одного ip адреса."
   ]
  },
  {
   "cell_type": "code",
   "execution_count": 11,
   "metadata": {
    "slideshow": {
     "slide_type": "subslide"
    }
   },
   "outputs": [
    {
     "name": "stdout",
     "output_type": "stream",
     "text": [
      "Запрос 1 пришёл в 1с\n",
      "Запрос 1 обработан в 1с (задержка 0с)\n",
      "\n",
      "Запрос 2 пришёл в 1с\n",
      "Запрос 2 обработан в 1с (задержка 0с)\n",
      "\n",
      "Запрос 3 пришёл в 1с\n",
      "Запрос 3 обработан в 1с (задержка 0с)\n",
      "\n",
      "Запрос 4 пришёл в 1с\n",
      "Запрос 4 отклонён.\n",
      "\n",
      "Запрос 5 пришёл в 2с\n",
      "Запрос 5 обработан в 2с (задержка 0с)\n",
      "\n",
      "Запрос 6 пришёл в 2с\n",
      "Запрос 6 отклонён.\n",
      "\n",
      "Запрос 7 пришёл в 2с\n",
      "Запрос 7 отклонён.\n",
      "\n",
      "Запрос 8 пришёл в 2с\n",
      "Запрос 8 отклонён.\n",
      "\n",
      "Запрос 9 пришёл в 3с\n",
      "Запрос 9 обработан в 3с (задержка 0с)\n",
      "\n",
      "Запрос 10 пришёл в 3с\n",
      "Запрос 10 отклонён.\n",
      "\n",
      "Запрос 11 пришёл в 3с\n",
      "Запрос 11 отклонён.\n",
      "\n",
      "Запрос 12 пришёл в 3с\n",
      "Запрос 12 отклонён.\n",
      "\n"
     ]
    }
   ],
   "source": [
    "try_requests(\n",
    "    RequestLimiter(1, 2),\n",
    "    [1, 1, 1, 1, 2, 2, 2, 2, 3, 3, 3, 3]\n",
    ")"
   ]
  },
  {
   "cell_type": "markdown",
   "metadata": {
    "slideshow": {
     "slide_type": "slide"
    }
   },
   "source": [
    "### Two-Stage Rate Limiting"
   ]
  },
  {
   "cell_type": "markdown",
   "metadata": {
    "slideshow": {
     "slide_type": "fragment"
    }
   },
   "source": [
    "Пример конфигурации"
   ]
  },
  {
   "cell_type": "markdown",
   "metadata": {
    "slideshow": {
     "slide_type": "fragment"
    }
   },
   "source": [
    "```\n",
    "location /login/ {\n",
    "    limit_req zone=mylimit burst=20 delay=10;\n",
    " \n",
    "    proxy_pass http://my_upstream;\n",
    "}\n",
    "```"
   ]
  },
  {
   "cell_type": "markdown",
   "metadata": {
    "slideshow": {
     "slide_type": "fragment"
    }
   },
   "source": [
    "Данный подход комбинирует два предыдущих. Первые **delay** запросов в очереди передаются на обработку без задержки, остальные **burst - delay** запросов очереди передаются на обработку с заданной частотой."
   ]
  },
  {
   "cell_type": "markdown",
   "metadata": {
    "slideshow": {
     "slide_type": "fragment"
    }
   },
   "source": [
    "Таким образом мы обеспечиваем быструю обработку группы запросов размера **delay + 1**, и принимаем ещё **burst - delay** запросов на обработку с задержкой."
   ]
  },
  {
   "cell_type": "code",
   "execution_count": 12,
   "metadata": {
    "slideshow": {
     "slide_type": "subslide"
    }
   },
   "outputs": [
    {
     "name": "stdout",
     "output_type": "stream",
     "text": [
      "Запрос 1 пришёл в 1с\n",
      "Запрос 1 обработан в 1с (задержка 0с)\n",
      "\n",
      "Запрос 2 пришёл в 1с\n",
      "Запрос 2 обработан в 1с (задержка 0с)\n",
      "\n",
      "Запрос 3 пришёл в 1с\n",
      "Запрос 3 обработан в 2.0с (задержка 1.0с)\n",
      "\n",
      "Запрос 4 пришёл в 1с\n",
      "Запрос 4 отклонён.\n",
      "\n",
      "Запрос 5 пришёл в 2с\n",
      "Запрос 5 обработан в 3.0с (задержка 1.0с)\n",
      "\n",
      "Запрос 6 пришёл в 2с\n",
      "Запрос 6 отклонён.\n",
      "\n",
      "Запрос 7 пришёл в 2с\n",
      "Запрос 7 отклонён.\n",
      "\n",
      "Запрос 8 пришёл в 2с\n",
      "Запрос 8 отклонён.\n",
      "\n",
      "Запрос 9 пришёл в 3с\n",
      "Запрос 9 обработан в 4.0с (задержка 1.0с)\n",
      "\n",
      "Запрос 10 пришёл в 3с\n",
      "Запрос 10 отклонён.\n",
      "\n",
      "Запрос 11 пришёл в 3с\n",
      "Запрос 11 отклонён.\n",
      "\n",
      "Запрос 12 пришёл в 3с\n",
      "Запрос 12 отклонён.\n",
      "\n"
     ]
    }
   ],
   "source": [
    "try_requests(\n",
    "    RequestLimiter(1, 2, 1),\n",
    "    [1, 1, 1, 1, 2, 2, 2, 2, 3, 3, 3, 3]\n",
    ")"
   ]
  }
 ],
 "metadata": {
  "celltoolbar": "Slideshow",
  "kernelspec": {
   "display_name": "Python 3",
   "language": "python",
   "name": "python3"
  },
  "language_info": {
   "codemirror_mode": {
    "name": "ipython",
    "version": 3
   },
   "file_extension": ".py",
   "mimetype": "text/x-python",
   "name": "python",
   "nbconvert_exporter": "python",
   "pygments_lexer": "ipython3",
   "version": "3.7.1"
  }
 },
 "nbformat": 4,
 "nbformat_minor": 2
}

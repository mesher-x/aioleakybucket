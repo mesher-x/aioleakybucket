{
 "cells": [
  {
   "cell_type": "markdown",
   "metadata": {},
   "source": [
    "# Непрерывные счётчики времени"
   ]
  },
  {
   "cell_type": "markdown",
   "metadata": {},
   "source": [
    "## TL;DR"
   ]
  },
  {
   "cell_type": "markdown",
   "metadata": {},
   "source": [
    "Best practice: если требуется монотонный счётчик с высокой точностью, можно использовать `default_timer` из модуля `timeit`."
   ]
  },
  {
   "cell_type": "markdown",
   "metadata": {},
   "source": [
    "## Определения времён"
   ]
  },
  {
   "cell_type": "markdown",
   "metadata": {},
   "source": [
    "*Wall time* - разница между временами конца и начала выполнения программы.\n",
    "\n",
    "*CPU time (process time)* - время, в течение которого CPU выполнял программу.\n",
    "\n",
    "*User time* - время, в течение которого CPU выполнял программу в user space.\n",
    "\n",
    "*System time* - время, в течение которого CPU выполнял программу в kernel space."
   ]
  },
  {
   "cell_type": "markdown",
   "metadata": {},
   "source": [
    "## `time`"
   ]
  },
  {
   "cell_type": "code",
   "execution_count": 97,
   "metadata": {},
   "outputs": [],
   "source": [
    "import time\n",
    "\n",
    "time.sleep(1)"
   ]
  },
  {
   "cell_type": "markdown",
   "metadata": {},
   "source": [
    "Задерживает исполнение вызывающего треда на переданное число секунд. Если получен сигнал и обработчик сигнала бросает исключение задержка может длится меньше указанного времени."
   ]
  },
  {
   "cell_type": "markdown",
   "metadata": {},
   "source": [
    "Обработчик `SIGINT` бросает `KeyboardInterrupt`."
   ]
  },
  {
   "cell_type": "code",
   "execution_count": 98,
   "metadata": {},
   "outputs": [
    {
     "name": "stdout",
     "output_type": "stream",
     "text": [
      "Должен был спать 10 секунд, спал 5 секунд.\n"
     ]
    }
   ],
   "source": [
    "import signal, threading\n",
    "\n",
    "main_thread_ident = threading.current_thread().ident\n",
    "\n",
    "def wait_and_signal():\n",
    "  time.sleep(5)\n",
    "  signal.pthread_kill(main_thread_ident, signal.SIGINT)\n",
    "\n",
    "threading.Thread(target=wait_and_signal).start()\n",
    "\n",
    "time_0 = time.time()\n",
    "try:\n",
    "  time.sleep(10)\n",
    "except KeyboardInterrupt:\n",
    "  pass\n",
    "time_1 = time.time()\n",
    "\n",
    "print('Должен был спать 10 секунд, спал %d секунд.' % (time_1 - time_0))"
   ]
  },
  {
   "cell_type": "markdown",
   "metadata": {},
   "source": [
    "Важной характеристикой счётчиков является точность. Функция `clock_getres(clk_id)` возвращает точность счётчика с переданным `clk_id`."
   ]
  },
  {
   "cell_type": "code",
   "execution_count": 99,
   "metadata": {},
   "outputs": [
    {
     "data": {
      "text/html": [
       "<div>\n",
       "<style scoped>\n",
       "    .dataframe tbody tr th:only-of-type {\n",
       "        vertical-align: middle;\n",
       "    }\n",
       "\n",
       "    .dataframe tbody tr th {\n",
       "        vertical-align: top;\n",
       "    }\n",
       "\n",
       "    .dataframe thead th {\n",
       "        text-align: right;\n",
       "    }\n",
       "</style>\n",
       "<table border=\"1\" class=\"dataframe\">\n",
       "  <thead>\n",
       "    <tr style=\"text-align: right;\">\n",
       "      <th></th>\n",
       "      <th>clk_id</th>\n",
       "      <th>resolution</th>\n",
       "    </tr>\n",
       "  </thead>\n",
       "  <tbody>\n",
       "    <tr>\n",
       "      <th></th>\n",
       "      <td>CLOCK_MONOTONIC</td>\n",
       "      <td>1.000000e-06</td>\n",
       "    </tr>\n",
       "    <tr>\n",
       "      <th></th>\n",
       "      <td>CLOCK_MONOTONIC_RAW</td>\n",
       "      <td>1.000000e-09</td>\n",
       "    </tr>\n",
       "    <tr>\n",
       "      <th></th>\n",
       "      <td>CLOCK_PROCESS_CPUTIME_ID</td>\n",
       "      <td>1.000000e-06</td>\n",
       "    </tr>\n",
       "    <tr>\n",
       "      <th></th>\n",
       "      <td>CLOCK_THREAD_CPUTIME_ID</td>\n",
       "      <td>1.000000e-09</td>\n",
       "    </tr>\n",
       "    <tr>\n",
       "      <th></th>\n",
       "      <td>CLOCK_REALTIME</td>\n",
       "      <td>1.000000e-06</td>\n",
       "    </tr>\n",
       "  </tbody>\n",
       "</table>\n",
       "</div>"
      ],
      "text/plain": [
       "                    clk_id    resolution\n",
       "           CLOCK_MONOTONIC  1.000000e-06\n",
       "       CLOCK_MONOTONIC_RAW  1.000000e-09\n",
       "  CLOCK_PROCESS_CPUTIME_ID  1.000000e-06\n",
       "   CLOCK_THREAD_CPUTIME_ID  1.000000e-09\n",
       "            CLOCK_REALTIME  1.000000e-06"
      ]
     },
     "execution_count": 99,
     "metadata": {},
     "output_type": "execute_result"
    }
   ],
   "source": [
    "import pandas as pd\n",
    "\n",
    "rows = []\n",
    "possible_clk_id_constants = ['CLOCK_BOOTTIME', 'CLOCK_HIGHRES', 'CLOCK_MONOTONIC', 'CLOCK_MONOTONIC_RAW', 'CLOCK_PROCESS_CPUTIME_ID', 'CLOCK_PROF', \\\n",
    "                    'CLOCK_THREAD_CPUTIME_ID', 'CLOCK_UPTIME', 'CLOCK_REALTIME']\n",
    "for clk_id_constant in possible_clk_id_constants:\n",
    "  if hasattr(time, clk_id_constant):\n",
    "    rows.append([clk_id_constant, time.clock_getres(getattr(time, clk_id_constant))])\n",
    "df = pd.DataFrame(data=rows, columns=['clk_id', 'resolution'])\n",
    "blankIndex=[''] * len(df)\n",
    "df.index=blankIndex\n",
    "df"
   ]
  },
  {
   "cell_type": "markdown",
   "metadata": {},
   "source": [
    "```\n",
    "time_0 = timer()\n",
    "# code\n",
    "time_1 = timer()\n",
    "```\n",
    "Счётчики, для которых гарантируется, что `time_0` $\\le$`time_1`, называются монотонными. Для остальных счётчиков `time_0` может быть больше чем `time_1`, если между вызовами (# code) происходит сдвиг системных часов. Системные часы могут быть сдвинуты вследствие действий системного администратора или NTP adjustments."
   ]
  },
  {
   "cell_type": "code",
   "execution_count": 100,
   "metadata": {},
   "outputs": [
    {
     "data": {
      "text/plain": [
       "-0.9914281368255615"
      ]
     },
     "execution_count": 100,
     "metadata": {},
     "output_type": "execute_result"
    }
   ],
   "source": [
    "time_0 = time.time()\n",
    "time.clock_settime(time.CLOCK_REALTIME, time_0 - 1)\n",
    "time_1 = time.time()\n",
    "time_1 - time_0"
   ]
  },
  {
   "cell_type": "code",
   "execution_count": 101,
   "metadata": {},
   "outputs": [
    {
     "data": {
      "text/html": [
       "<div>\n",
       "<style scoped>\n",
       "    .dataframe tbody tr th:only-of-type {\n",
       "        vertical-align: middle;\n",
       "    }\n",
       "\n",
       "    .dataframe tbody tr th {\n",
       "        vertical-align: top;\n",
       "    }\n",
       "\n",
       "    .dataframe thead th {\n",
       "        text-align: right;\n",
       "    }\n",
       "</style>\n",
       "<table border=\"1\" class=\"dataframe\">\n",
       "  <thead>\n",
       "    <tr style=\"text-align: right;\">\n",
       "      <th></th>\n",
       "      <th>clock name</th>\n",
       "      <th>implementation</th>\n",
       "      <th>monotonic</th>\n",
       "      <th>adjustable</th>\n",
       "      <th>resolution</th>\n",
       "    </tr>\n",
       "  </thead>\n",
       "  <tbody>\n",
       "    <tr>\n",
       "      <th></th>\n",
       "      <td>monotonic</td>\n",
       "      <td>mach_absolute_time()</td>\n",
       "      <td>True</td>\n",
       "      <td>False</td>\n",
       "      <td>1.000000e-09</td>\n",
       "    </tr>\n",
       "    <tr>\n",
       "      <th></th>\n",
       "      <td>perf_counter</td>\n",
       "      <td>mach_absolute_time()</td>\n",
       "      <td>True</td>\n",
       "      <td>False</td>\n",
       "      <td>1.000000e-09</td>\n",
       "    </tr>\n",
       "    <tr>\n",
       "      <th></th>\n",
       "      <td>process_time</td>\n",
       "      <td>clock_gettime(CLOCK_PROCESS_CPUTIME_ID)</td>\n",
       "      <td>True</td>\n",
       "      <td>False</td>\n",
       "      <td>1.000000e-06</td>\n",
       "    </tr>\n",
       "    <tr>\n",
       "      <th></th>\n",
       "      <td>thread_time</td>\n",
       "      <td>clock_gettime(CLOCK_THREAD_CPUTIME_ID)</td>\n",
       "      <td>True</td>\n",
       "      <td>False</td>\n",
       "      <td>1.000000e-09</td>\n",
       "    </tr>\n",
       "    <tr>\n",
       "      <th></th>\n",
       "      <td>time</td>\n",
       "      <td>clock_gettime(CLOCK_REALTIME)</td>\n",
       "      <td>False</td>\n",
       "      <td>True</td>\n",
       "      <td>1.000000e-06</td>\n",
       "    </tr>\n",
       "  </tbody>\n",
       "</table>\n",
       "</div>"
      ],
      "text/plain": [
       "    clock name                           implementation  monotonic  \\\n",
       "     monotonic                     mach_absolute_time()       True   \n",
       "  perf_counter                     mach_absolute_time()       True   \n",
       "  process_time  clock_gettime(CLOCK_PROCESS_CPUTIME_ID)       True   \n",
       "   thread_time   clock_gettime(CLOCK_THREAD_CPUTIME_ID)       True   \n",
       "          time            clock_gettime(CLOCK_REALTIME)      False   \n",
       "\n",
       "  adjustable    resolution  \n",
       "       False  1.000000e-09  \n",
       "       False  1.000000e-09  \n",
       "       False  1.000000e-06  \n",
       "       False  1.000000e-09  \n",
       "        True  1.000000e-06  "
      ]
     },
     "execution_count": 101,
     "metadata": {},
     "output_type": "execute_result"
    }
   ],
   "source": [
    "clock_names = ['monotonic', 'perf_counter', 'process_time', 'thread_time', 'time']\n",
    "rows = [None] * len(clock_names)\n",
    "for i, name in enumerate(clock_names):\n",
    "  rows[i] = {'clock name':name}\n",
    "  rows[i].update(time.get_clock_info(name).__dict__)\n",
    "df = pd.DataFrame(data=rows, columns=rows[0].keys())\n",
    "blankIndex=[''] * len(df)\n",
    "df.index=blankIndex\n",
    "df"
   ]
  },
  {
   "cell_type": "code",
   "execution_count": null,
   "metadata": {},
   "outputs": [],
   "source": [
    "time.clock_gettime(clk_id) → float\n",
    "time.clock_gettime_ns(clk_id) → int\n",
    "time.clock_settime(clk_id, time: float)\n",
    "time.clock_settime_ns(clk_id, time: int)"
   ]
  },
  {
   "cell_type": "code",
   "execution_count": 103,
   "metadata": {},
   "outputs": [
    {
     "data": {
      "text/plain": [
       "1.001488822000283"
      ]
     },
     "execution_count": 103,
     "metadata": {},
     "output_type": "execute_result"
    }
   ],
   "source": [
    "time_0 = time.monotonic()\n",
    "time.sleep(1)\n",
    "time_1 = time.monotonic()\n",
    "time_1 - time_0"
   ]
  },
  {
   "cell_type": "markdown",
   "metadata": {},
   "source": [
    "Возвращает монотонное *wall time* время в секундах с неопределённого момента. Значение не зависит от изменений системных часов."
   ]
  },
  {
   "cell_type": "code",
   "execution_count": 104,
   "metadata": {},
   "outputs": [
    {
     "data": {
      "text/plain": [
       "1.000951587000145"
      ]
     },
     "execution_count": 104,
     "metadata": {},
     "output_type": "execute_result"
    }
   ],
   "source": [
    "time_0 = time.perf_counter()\n",
    "time.sleep(1)\n",
    "time_1 = time.perf_counter()\n",
    "time_1 - time_0"
   ]
  },
  {
   "cell_type": "markdown",
   "metadata": {},
   "source": [
    "Возвращает *wall time* время счётчика с наибольшей точностью в секундах с неопределённого момента."
   ]
  },
  {
   "cell_type": "code",
   "execution_count": 105,
   "metadata": {},
   "outputs": [
    {
     "data": {
      "text/plain": [
       "0.0034200000000002007"
      ]
     },
     "execution_count": 105,
     "metadata": {},
     "output_type": "execute_result"
    }
   ],
   "source": [
    "time_0 = time.process_time()\n",
    "time.sleep(1)\n",
    "time_1 = time.process_time()\n",
    "time_1 - time_0"
   ]
  },
  {
   "cell_type": "markdown",
   "metadata": {},
   "source": [
    "Возвращает сумму *system time* и *user time* текущего процесса в секундах с неопределённого момента."
   ]
  },
  {
   "cell_type": "code",
   "execution_count": 106,
   "metadata": {},
   "outputs": [
    {
     "data": {
      "text/plain": [
       "0.0002306960000000302"
      ]
     },
     "execution_count": 106,
     "metadata": {},
     "output_type": "execute_result"
    }
   ],
   "source": [
    "time_0 = time.thread_time()\n",
    "time.sleep(1)\n",
    "time_1 = time.thread_time()\n",
    "time_1 - time_0"
   ]
  },
  {
   "cell_type": "markdown",
   "metadata": {},
   "source": [
    "Аналог `time.process_time()` для тредов."
   ]
  },
  {
   "cell_type": "code",
   "execution_count": 107,
   "metadata": {},
   "outputs": [
    {
     "data": {
      "text/plain": [
       "1553727504.2132218"
      ]
     },
     "execution_count": 107,
     "metadata": {},
     "output_type": "execute_result"
    }
   ],
   "source": [
    "time.time()"
   ]
  },
  {
   "cell_type": "markdown",
   "metadata": {},
   "source": [
    "Возвращает *wall time* с эпохи в секундах. Обычно эпоха = 01.01.1970 00:00:00 (UTC), также эпоху возвращает `gmtime(0)`.\n",
    "\n",
    "Если между вызовами системные часы были изменены, то возвращаемые значения могут быть немонотонными."
   ]
  },
  {
   "cell_type": "code",
   "execution_count": 108,
   "metadata": {},
   "outputs": [
    {
     "data": {
      "text/plain": [
       "time.struct_time(tm_year=1970, tm_mon=1, tm_mday=1, tm_hour=0, tm_min=0, tm_sec=0, tm_wday=3, tm_yday=1, tm_isdst=0)"
      ]
     },
     "execution_count": 108,
     "metadata": {},
     "output_type": "execute_result"
    }
   ],
   "source": [
    "time.gmtime(0)"
   ]
  },
  {
   "cell_type": "markdown",
   "metadata": {},
   "source": [
    "Есть аналогичные функции, возвращающие время в наносекундах, тип `int`: `time.monotonic_ns()`, `time.perf_counter_ns()`, `time.process_time_ns()`, `time.thread_time_ns()`,  `time.time_ns()`."
   ]
  },
  {
   "cell_type": "code",
   "execution_count": null,
   "metadata": {},
   "outputs": [],
   "source": [
    "time.pthread_getcpuclockid(thread_id) # возвращает clk_id счётчика, который возвращает CPU time для thread c переданным thread_id"
   ]
  },
  {
   "cell_type": "markdown",
   "metadata": {},
   "source": [
    "## `asyncio.loop.time()`"
   ]
  },
  {
   "cell_type": "code",
   "execution_count": 110,
   "metadata": {},
   "outputs": [
    {
     "name": "stdout",
     "output_type": "stream",
     "text": [
      "    def time(self):\n",
      "        \"\"\"Return the time according to the event loop's clock.\n",
      "\n",
      "        This is a float expressed in seconds since an epoch, but the\n",
      "        epoch, precision, accuracy and drift are unspecified and may\n",
      "        differ per event loop.\n",
      "        \"\"\"\n",
      "        return time.monotonic()\n",
      "\n"
     ]
    }
   ],
   "source": [
    "import inspect, asyncio\n",
    "\n",
    "lines = inspect.getsource(asyncio.BaseEventLoop.time)\n",
    "print(lines)"
   ]
  },
  {
   "cell_type": "code",
   "execution_count": 111,
   "metadata": {},
   "outputs": [
    {
     "name": "stdout",
     "output_type": "stream",
     "text": [
      "3092.072869279\n",
      "3093.078410952\n",
      "3094.082194017\n",
      "3095.086349509\n",
      "3096.091268329\n"
     ]
    }
   ],
   "source": [
    "import asyncio\n",
    "\n",
    "loop = asyncio.new_event_loop()\n",
    "\n",
    "for i in range(5):\n",
    "  await asyncio.sleep(1)\n",
    "  print(loop.time())\n",
    "\n",
    "loop.stop()\n",
    "loop.close()"
   ]
  },
  {
   "cell_type": "markdown",
   "metadata": {},
   "source": [
    "## `timeit`"
   ]
  },
  {
   "cell_type": "markdown",
   "metadata": {},
   "source": [
    "Модуль применяется для бенчмаркинга."
   ]
  },
  {
   "cell_type": "markdown",
   "metadata": {},
   "source": [
    "Пример"
   ]
  },
  {
   "cell_type": "code",
   "execution_count": 112,
   "metadata": {},
   "outputs": [
    {
     "data": {
      "text/plain": [
       "0.055205082000156835"
      ]
     },
     "execution_count": 112,
     "metadata": {},
     "output_type": "execute_result"
    }
   ],
   "source": [
    "import timeit\n",
    "timeit.timeit(stmt='\"g\" in text', setup='text = \"sample string\"')"
   ]
  },
  {
   "cell_type": "markdown",
   "metadata": {},
   "source": [
    "Основные функции"
   ]
  },
  {
   "cell_type": "code",
   "execution_count": null,
   "metadata": {},
   "outputs": [],
   "source": [
    "default_timer = time.perf_counter\n",
    "\n",
    "timeit(stmt='pass', setup='pass', timer=default_timer, number=1000000, globals=None) \n",
    "# вызывает setup 1 раз, вызывает stmt number раз, возвращает среднее время\n",
    "# перед замером времени выключается сборщик мусора\n",
    "\n",
    "repeat(stmt='pass', setup='pass', timer=default_timer, repeat=5, number=1000000, globals=None) \n",
    "# вызывает timeit repeat раз, возвращает лист времён\n",
    "\n",
    "T = Timer(stmt=\"pass\", setup=\"pass\", timer=default_timer, globals=None)\n",
    "T.autorange(callback=None)\n",
    "# вызывает timeit с возрастающими значениями number пока замеряемое время < 0.2 секунд"
   ]
  },
  {
   "cell_type": "markdown",
   "metadata": {},
   "source": [
    "Вычисление времени исполнения производится с помощью счётчика `timer`, значение по умолчанию - `perf_counter` из модуля `time`."
   ]
  }
 ],
 "metadata": {
  "kernelspec": {
   "display_name": "Python 3",
   "language": "python",
   "name": "python3"
  },
  "language_info": {
   "codemirror_mode": {
    "name": "ipython",
    "version": 3
   },
   "file_extension": ".py",
   "mimetype": "text/x-python",
   "name": "python",
   "nbconvert_exporter": "python",
   "pygments_lexer": "ipython3",
   "version": "3.7.1"
  }
 },
 "nbformat": 4,
 "nbformat_minor": 2
}

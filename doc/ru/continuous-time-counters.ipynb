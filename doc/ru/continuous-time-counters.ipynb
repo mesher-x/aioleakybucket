{
 "cells": [
  {
   "cell_type": "markdown",
   "metadata": {},
   "source": [
    "# Непрерывные счётчики времени"
   ]
  },
  {
   "cell_type": "markdown",
   "metadata": {},
   "source": [
    "## TL;DR"
   ]
  },
  {
   "cell_type": "markdown",
   "metadata": {},
   "source": [
    "Best practice: если требуется монотонный счётчик с высокой точностью, можно использовать `default_timer` из модуля `timeit`."
   ]
  },
  {
   "cell_type": "markdown",
   "metadata": {},
   "source": [
    "## Определения времён"
   ]
  },
  {
   "cell_type": "markdown",
   "metadata": {},
   "source": [
    "*Wall time* - разница между временами конца и начала выполнения программы.\n",
    "\n",
    "*CPU time (process time)* - время, в течение которого CPU выполнял программу.\n",
    "\n",
    "*User time* - время, в течение которого CPU выполнял программу в user space.\n",
    "\n",
    "*System time* - время, в течение которого CPU выполнял программу в kernel space."
   ]
  },
  {
   "cell_type": "markdown",
   "metadata": {},
   "source": [
    "## `time`"
   ]
  },
  {
   "cell_type": "code",
   "execution_count": 1,
   "metadata": {},
   "outputs": [],
   "source": [
    "import time\n",
    "\n",
    "time.sleep(1)"
   ]
  },
  {
   "cell_type": "markdown",
   "metadata": {},
   "source": [
    "Задерживает исполнение вызывающего треда на переданное число секунд. Если получен сигнал и обработчик сигнала бросает исключение задержка может длится меньше указанного времени."
   ]
  },
  {
   "cell_type": "code",
   "execution_count": 2,
   "metadata": {},
   "outputs": [
    {
     "data": {
      "text/plain": [
       "0.0036609999999999143"
      ]
     },
     "execution_count": 2,
     "metadata": {},
     "output_type": "execute_result"
    }
   ],
   "source": [
    "import warnings\n",
    "warnings.filterwarnings('ignore') # deprecation warnings \n",
    "\n",
    "time_0 = time.clock()\n",
    "time.sleep(1)\n",
    "time_1 = time.clock()\n",
    "time_1 - time_0"
   ]
  },
  {
   "cell_type": "markdown",
   "metadata": {},
   "source": [
    "Unix : возвращает *current processor time* в секундах с момента начала процесса или c момента первого вызова `clock()`. Поведение и точность зависят от платформы.\n",
    "\n",
    "Windows: возвращает *wall time* в секундах с момента первого вызова `clock()`. Точность обычно лучше 1 микросекунды.\n",
    "\n",
    "**Deprecated.**"
   ]
  },
  {
   "cell_type": "markdown",
   "metadata": {},
   "source": [
    "Важной характеристикой счётчиков является точность. Функция `clock_getres(clk_id)` возвращает точность счётчика с переданным `clk_id`."
   ]
  },
  {
   "cell_type": "code",
   "execution_count": 3,
   "metadata": {},
   "outputs": [
    {
     "name": "stdout",
     "output_type": "stream",
     "text": [
      "CLOCK_MONOTONIC : 1.0000000000000002e-06\n",
      "CLOCK_MONOTONIC_RAW : 1e-09\n",
      "CLOCK_PROCESS_CPUTIME_ID : 1.0000000000000002e-06\n",
      "CLOCK_THREAD_CPUTIME_ID : 1e-09\n",
      "CLOCK_REALTIME : 1.0000000000000002e-06\n"
     ]
    }
   ],
   "source": [
    "possible_clk_id_constants = ['CLOCK_BOOTTIME', 'CLOCK_HIGHRES', 'CLOCK_MONOTONIC', 'CLOCK_MONOTONIC_RAW', 'CLOCK_PROCESS_CPUTIME_ID', 'CLOCK_PROF', \\\n",
    "                    'CLOCK_THREAD_CPUTIME_ID', 'CLOCK_UPTIME', 'CLOCK_REALTIME']\n",
    "for clk_id_constant in possible_clk_id_constants:\n",
    "    if hasattr(time, clk_id_constant):\n",
    "        print(clk_id_constant, ':', time.clock_getres(getattr(time, clk_id_constant)))"
   ]
  },
  {
   "cell_type": "markdown",
   "metadata": {},
   "source": [
    "Пусть произошло исполнение двух строчек кода 1) `time_0 = timer()`, 2) `time_1 = timer()`. Нумерация отражает порядок исполнения в реальном времени. Счётчики, для которых гарантируется, что `time_0` $\\le$`time_1`, называются монотонными.\n",
    "\n",
    "Если счётчик не является монотонным и между исполнениями строчек 1) и 2) произошёл сдвиг системных часов, `time_0` может быть больше, чем `time_1`. Системные часы могут быть сдвинуты вследствие действий системного администратора или NTP adjustments."
   ]
  },
  {
   "cell_type": "code",
   "execution_count": 4,
   "metadata": {},
   "outputs": [
    {
     "name": "stdout",
     "output_type": "stream",
     "text": [
      "clock : namespace(adjustable=False, implementation='clock()', monotonic=True, resolution=1e-06)\n",
      "monotonic : namespace(adjustable=False, implementation='mach_absolute_time()', monotonic=True, resolution=1e-09)\n",
      "perf_counter : namespace(adjustable=False, implementation='mach_absolute_time()', monotonic=True, resolution=1e-09)\n",
      "process_time : namespace(adjustable=False, implementation='clock_gettime(CLOCK_PROCESS_CPUTIME_ID)', monotonic=True, resolution=1.0000000000000002e-06)\n",
      "thread_time : namespace(adjustable=False, implementation='clock_gettime(CLOCK_THREAD_CPUTIME_ID)', monotonic=True, resolution=1e-09)\n",
      "time : namespace(adjustable=True, implementation='clock_gettime(CLOCK_REALTIME)', monotonic=False, resolution=1.0000000000000002e-06)\n"
     ]
    }
   ],
   "source": [
    "for name in ['clock', 'monotonic', 'perf_counter', 'process_time', 'thread_time', 'time']:\n",
    "    print(name, ':', time.get_clock_info(name))"
   ]
  },
  {
   "cell_type": "markdown",
   "metadata": {},
   "source": [
    "adjustable = True, если счётчик может быть изменён."
   ]
  },
  {
   "cell_type": "code",
   "execution_count": null,
   "metadata": {},
   "outputs": [],
   "source": [
    "time.clock_gettime(clk_id) → float\n",
    "time.clock_gettime_ns(clk_id) → int\n",
    "time.clock_settime(clk_id, time: float)\n",
    "time.clock_settime_ns(clk_id, time: int)"
   ]
  },
  {
   "cell_type": "code",
   "execution_count": 6,
   "metadata": {},
   "outputs": [
    {
     "ename": "OSError",
     "evalue": "[Errno 22] Invalid argument",
     "output_type": "error",
     "traceback": [
      "\u001b[0;31m---------------------------------------------------------------------------\u001b[0m",
      "\u001b[0;31mOSError\u001b[0m                                   Traceback (most recent call last)",
      "\u001b[0;32m<ipython-input-6-a13b6f956f01>\u001b[0m in \u001b[0;36m<module>\u001b[0;34m\u001b[0m\n\u001b[0;32m----> 1\u001b[0;31m \u001b[0mtime\u001b[0m\u001b[0;34m.\u001b[0m\u001b[0mclock_settime\u001b[0m\u001b[0;34m(\u001b[0m\u001b[0mtime\u001b[0m\u001b[0;34m.\u001b[0m\u001b[0mCLOCK_THREAD_CPUTIME_ID\u001b[0m\u001b[0;34m,\u001b[0m \u001b[0;36m0\u001b[0m\u001b[0;34m)\u001b[0m\u001b[0;34m\u001b[0m\u001b[0;34m\u001b[0m\u001b[0m\n\u001b[0m",
      "\u001b[0;31mOSError\u001b[0m: [Errno 22] Invalid argument"
     ]
    }
   ],
   "source": [
    "time.clock_settime(time.CLOCK_THREAD_CPUTIME_ID, 0)"
   ]
  },
  {
   "cell_type": "code",
   "execution_count": 7,
   "metadata": {},
   "outputs": [
    {
     "ename": "PermissionError",
     "evalue": "[Errno 1] Operation not permitted",
     "output_type": "error",
     "traceback": [
      "\u001b[0;31m---------------------------------------------------------------------------\u001b[0m",
      "\u001b[0;31mPermissionError\u001b[0m                           Traceback (most recent call last)",
      "\u001b[0;32m<ipython-input-7-389a6af1e7ff>\u001b[0m in \u001b[0;36m<module>\u001b[0;34m\u001b[0m\n\u001b[0;32m----> 1\u001b[0;31m \u001b[0mtime\u001b[0m\u001b[0;34m.\u001b[0m\u001b[0mclock_settime\u001b[0m\u001b[0;34m(\u001b[0m\u001b[0mtime\u001b[0m\u001b[0;34m.\u001b[0m\u001b[0mCLOCK_REALTIME\u001b[0m\u001b[0;34m,\u001b[0m \u001b[0;36m0\u001b[0m\u001b[0;34m)\u001b[0m\u001b[0;34m\u001b[0m\u001b[0;34m\u001b[0m\u001b[0m\n\u001b[0m",
      "\u001b[0;31mPermissionError\u001b[0m: [Errno 1] Operation not permitted"
     ]
    }
   ],
   "source": [
    "time.clock_settime(time.CLOCK_REALTIME, 0)"
   ]
  },
  {
   "cell_type": "code",
   "execution_count": 9,
   "metadata": {},
   "outputs": [
    {
     "data": {
      "text/plain": [
       "1.0022855059999927"
      ]
     },
     "execution_count": 9,
     "metadata": {},
     "output_type": "execute_result"
    }
   ],
   "source": [
    "time_0 = time.monotonic()\n",
    "time.sleep(1)\n",
    "time_1 = time.monotonic()\n",
    "time_1 - time_0"
   ]
  },
  {
   "cell_type": "markdown",
   "metadata": {},
   "source": [
    "Возвращает монотонное *wall time* время в секундах с неопределённого момента. Значение не зависит от изменений системных часов."
   ]
  },
  {
   "cell_type": "code",
   "execution_count": 10,
   "metadata": {},
   "outputs": [
    {
     "data": {
      "text/plain": [
       "1.004135544999997"
      ]
     },
     "execution_count": 10,
     "metadata": {},
     "output_type": "execute_result"
    }
   ],
   "source": [
    "time_0 = time.perf_counter()\n",
    "time.sleep(1)\n",
    "time_1 = time.perf_counter()\n",
    "time_1 - time_0"
   ]
  },
  {
   "cell_type": "markdown",
   "metadata": {},
   "source": [
    "Возвращает *wall time* время счётчика с наибольшей точностью в секундах с неопределённого момента."
   ]
  },
  {
   "cell_type": "code",
   "execution_count": 11,
   "metadata": {},
   "outputs": [
    {
     "data": {
      "text/plain": [
       "0.0037289999999998713"
      ]
     },
     "execution_count": 11,
     "metadata": {},
     "output_type": "execute_result"
    }
   ],
   "source": [
    "time_0 = time.process_time()\n",
    "time.sleep(1)\n",
    "time_1 = time.process_time()\n",
    "time_1 - time_0"
   ]
  },
  {
   "cell_type": "markdown",
   "metadata": {},
   "source": [
    "Возвращает сумму *system time* и *user time* текущего процесса в секундах с неопределённого момента."
   ]
  },
  {
   "cell_type": "code",
   "execution_count": 12,
   "metadata": {},
   "outputs": [
    {
     "data": {
      "text/plain": [
       "0.000260637000000008"
      ]
     },
     "execution_count": 12,
     "metadata": {},
     "output_type": "execute_result"
    }
   ],
   "source": [
    "time_0 = time.thread_time()\n",
    "time.sleep(1)\n",
    "time_1 = time.thread_time()\n",
    "time_1 - time_0"
   ]
  },
  {
   "cell_type": "markdown",
   "metadata": {},
   "source": [
    "Аналог `time.process_time()` для тредов."
   ]
  },
  {
   "cell_type": "code",
   "execution_count": 13,
   "metadata": {},
   "outputs": [
    {
     "data": {
      "text/plain": [
       "1553291783.246113"
      ]
     },
     "execution_count": 13,
     "metadata": {},
     "output_type": "execute_result"
    }
   ],
   "source": [
    "time.time()"
   ]
  },
  {
   "cell_type": "markdown",
   "metadata": {},
   "source": [
    "Возвращает *wall time* с эпохи в секундах. Обычно эпоха = 01.01.1970 00:00:00 (UTC), также эпоху возвращает `gmtime(0)`.\n",
    "\n",
    "Если между вызовами системные часы были изменены, то возвращаемые значения могут быть немонотонными."
   ]
  },
  {
   "cell_type": "code",
   "execution_count": 14,
   "metadata": {},
   "outputs": [
    {
     "data": {
      "text/plain": [
       "time.struct_time(tm_year=1970, tm_mon=1, tm_mday=1, tm_hour=0, tm_min=0, tm_sec=0, tm_wday=3, tm_yday=1, tm_isdst=0)"
      ]
     },
     "execution_count": 14,
     "metadata": {},
     "output_type": "execute_result"
    }
   ],
   "source": [
    "time.gmtime(0)"
   ]
  },
  {
   "cell_type": "code",
   "execution_count": null,
   "metadata": {},
   "outputs": [],
   "source": [
    "time.pthread_getcpuclockid(thread_id) # возвращает clk_id счётчика, который возвращает CPU time для thread c переданным thread_id"
   ]
  },
  {
   "cell_type": "markdown",
   "metadata": {},
   "source": [
    "## `asyncio.loop.time()`"
   ]
  },
  {
   "cell_type": "code",
   "execution_count": null,
   "metadata": {},
   "outputs": [],
   "source": [
    "# base_event.py\n",
    "\n",
    "class BaseEventLoop(events.AbstractEventLoop):\n",
    "  def time(self):\n",
    "          \"\"\"Return the time according to the event loop's clock.\n",
    "\n",
    "          This is a float expressed in seconds since an epoch, but the\n",
    "          epoch, precision, accuracy and drift are unspecified and may\n",
    "          differ per event loop.\n",
    "          \"\"\"\n",
    "          return time.monotonic()"
   ]
  },
  {
   "cell_type": "code",
   "execution_count": 17,
   "metadata": {},
   "outputs": [
    {
     "name": "stdout",
     "output_type": "stream",
     "text": [
      "190.3393646\n",
      "191.339844045\n",
      "192.340572025\n",
      "193.343911783\n",
      "194.34912402\n"
     ]
    }
   ],
   "source": [
    "import asyncio\n",
    "\n",
    "loop = asyncio.new_event_loop()\n",
    "\n",
    "for i in range(5):\n",
    "  await asyncio.sleep(1)\n",
    "  print(loop.time())\n",
    "\n",
    "loop.stop()\n",
    "loop.close()"
   ]
  },
  {
   "cell_type": "markdown",
   "metadata": {},
   "source": [
    "## `timeit`"
   ]
  },
  {
   "cell_type": "markdown",
   "metadata": {},
   "source": [
    "Модуль применяется для бенчмаркинга."
   ]
  },
  {
   "cell_type": "markdown",
   "metadata": {},
   "source": [
    "Пример"
   ]
  },
  {
   "cell_type": "code",
   "execution_count": 18,
   "metadata": {},
   "outputs": [
    {
     "data": {
      "text/plain": [
       "0.05260035500000981"
      ]
     },
     "execution_count": 18,
     "metadata": {},
     "output_type": "execute_result"
    }
   ],
   "source": [
    "import timeit\n",
    "timeit.timeit(stmt='\"g\" in text', setup='text = \"sample string\"')"
   ]
  },
  {
   "cell_type": "markdown",
   "metadata": {},
   "source": [
    "Основные функции"
   ]
  },
  {
   "cell_type": "code",
   "execution_count": null,
   "metadata": {},
   "outputs": [],
   "source": [
    "default_timer = time.perf_counter\n",
    "\n",
    "timeit(stmt='pass', setup='pass', timer=default_timer, number=1000000, globals=None) \n",
    "# вызывает setup 1 раз, вызывает stmt number раз, возвращает среднее время\n",
    "# перед замером времени выключается сборщик мусора\n",
    "\n",
    "repeat(stmt='pass', setup='pass', timer=default_timer, repeat=5, number=1000000, globals=None) \n",
    "# вызывает timeit repeat раз, возвращает лист времён\n",
    "\n",
    "T = Timer(stmt=\"pass\", setup=\"pass\", timer=default_timer, globals=None)\n",
    "T.autorange(callback=None)\n",
    "# вызывает timeit с возрастающими значениями number пока замеряемое время < 0.2 секунд"
   ]
  },
  {
   "cell_type": "markdown",
   "metadata": {},
   "source": [
    "Вычисление времени исполнения производится с помощью счётчика `timer`, значение по умолчанию - `perf_counter` из модуля `time`."
   ]
  }
 ],
 "metadata": {
  "kernelspec": {
   "display_name": "Python 3",
   "language": "python",
   "name": "python3"
  },
  "language_info": {
   "codemirror_mode": {
    "name": "ipython",
    "version": 3
   },
   "file_extension": ".py",
   "mimetype": "text/x-python",
   "name": "python",
   "nbconvert_exporter": "python",
   "pygments_lexer": "ipython3",
   "version": "3.7.1"
  }
 },
 "nbformat": 4,
 "nbformat_minor": 2
}
